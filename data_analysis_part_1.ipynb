{
 "cells": [
  {
   "cell_type": "markdown",
   "metadata": {},
   "source": [
    "# Data Alaysis Tutorial\n",
    "\n",
    "I will be doing a data analysis tutorial so that I can get a firm grasp on `pandas` `numpy` and the `plotly` libraries. The goals of this tutorial will be as follows:\n",
    "\n",
    " - Learn how to analyze data statistically using `pandas` and `numpy`.\n",
    " - Learn how to vizualize data using `plotly`.\n",
    " - Learn how to clean data before analysis.\n",
    "\n",
    " I am going to be looking at many sources of data and create data randomly for this project.\n",
    "\n",
    " **Let the fun begin**"
   ]
  },
  {
   "cell_type": "code",
   "execution_count": null,
   "metadata": {},
   "outputs": [],
   "source": []
  }
 ],
 "metadata": {
  "kernelspec": {
   "display_name": "Python 3",
   "language": "python",
   "name": "python3"
  },
  "language_info": {
   "codemirror_mode": {
    "name": "ipython",
    "version": 3
   },
   "file_extension": ".py",
   "mimetype": "text/x-python",
   "name": "python",
   "nbconvert_exporter": "python",
   "pygments_lexer": "ipython3",
   "version": "3.12.2"
  }
 },
 "nbformat": 4,
 "nbformat_minor": 2
}
