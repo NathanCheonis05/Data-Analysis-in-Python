{
 "cells": [
  {
   "cell_type": "markdown",
   "metadata": {},
   "source": [
    "# Data Alaysis Tutorial\n",
    "\n",
    "I will be doing a data analysis tutorial so that I can get a firm grasp on `pandas` `numpy` and the `plotly` libraries. The goals of this tutorial will be as follows:\n",
    "\n",
    " - Learn how to analyze data statistically using `pandas` and `numpy`.\n",
    " - Learn how to vizualize data using `plotly`.\n",
    " - Learn how to clean data before analysis.\n",
    "\n",
    " I am going to be looking at many sources of data and create data randomly for this project.\n",
    "\n",
    " **Let the fun begin.**"
   ]
  },
  {
   "cell_type": "code",
   "execution_count": 1,
   "metadata": {},
   "outputs": [],
   "source": [
    "import numpy as np\n",
    "import plotly.express as px\n",
    "import pandas as pd"
   ]
  },
  {
   "cell_type": "code",
   "execution_count": 8,
   "metadata": {},
   "outputs": [
    {
     "name": "stdout",
     "output_type": "stream",
     "text": [
      "1\n",
      "5\n",
      "(3, 3)\n"
     ]
    }
   ],
   "source": [
    "# I will be starting off with numpy array.\n",
    "# ML and Deep Learning has a lot to do with Linear Algebra and Numpy is good.\n",
    "\n",
    "# np arrays look like a basic python list\n",
    "# Here is an example\n",
    "\n",
    "a = np.array([1,2,3,4])\n",
    "b = np.array([5,6,7,8])\n",
    "c = np.array([\n",
    "    [1,2,3],\n",
    "    [4,5,6],\n",
    "    [7,8,9]\n",
    "])\n",
    "\n",
    "print(a[0]) # list indexint still works for np arrays\n",
    "print(b[0])\n",
    "print(c.shape) # the.shape attribute will give the dimensions of the array\n",
    "\n"
   ]
  }
 ],
 "metadata": {
  "kernelspec": {
   "display_name": "Python 3",
   "language": "python",
   "name": "python3"
  },
  "language_info": {
   "codemirror_mode": {
    "name": "ipython",
    "version": 3
   },
   "file_extension": ".py",
   "mimetype": "text/x-python",
   "name": "python",
   "nbconvert_exporter": "python",
   "pygments_lexer": "ipython3",
   "version": "3.12.2"
  }
 },
 "nbformat": 4,
 "nbformat_minor": 2
}
