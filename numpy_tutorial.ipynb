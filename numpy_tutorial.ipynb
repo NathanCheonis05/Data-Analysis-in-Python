{
 "cells": [
  {
   "cell_type": "markdown",
   "metadata": {},
   "source": [
    "# Data Alaysis Tutorial\n",
    "\n",
    "I will be doing a data analysis tutorial so that I can get a firm grasp on `pandas` `numpy` and the `plotly` libraries. The goals of this tutorial will be as follows:\n",
    "\n",
    " - Learn how to analyze data statistically using `pandas` and `numpy`.\n",
    " - Learn how to vizualize data using `plotly`.\n",
    " - Learn how to clean data before analysis.\n",
    "\n",
    " I am going to be looking at many sources of data and create data randomly for this project.\n",
    "\n",
    " **Let the fun begin.**"
   ]
  },
  {
   "cell_type": "code",
   "execution_count": 1,
   "metadata": {},
   "outputs": [],
   "source": [
    "import numpy as np\n",
    "import plotly.express as px\n",
    "import pandas as pd"
   ]
  },
  {
   "cell_type": "code",
   "execution_count": 2,
   "metadata": {},
   "outputs": [
    {
     "name": "stdout",
     "output_type": "stream",
     "text": [
      "1\n",
      "5\n",
      "(3, 3)\n",
      "[ 6  8 10 12]\n"
     ]
    }
   ],
   "source": [
    "# I will be starting off with numpy array.\n",
    "# ML and Deep Learning has a lot to do with Linear Algebra and Numpy is good.\n",
    "\n",
    "# np arrays look like a basic python list\n",
    "# Here is an example\n",
    "\n",
    "a = np.array([1,2,3,4])\n",
    "b = np.array([5,6,7,8])\n",
    "c = np.array([\n",
    "    [1,2,3],\n",
    "    [4,5,6],\n",
    "    [7,8,9]\n",
    "])\n",
    "\n",
    "print(a[0]) # list indexint still works for np arrays\n",
    "print(b[0])\n",
    "print(c.shape) # the.shape attribute will give the dimensions of the array\n",
    "\n",
    "x = np.array([1,2,3,4])\n",
    "y = np.array([5,6,7,8])\n",
    "\n",
    "sum_x_y = x + y\n",
    "print(sum_x_y)"
   ]
  },
  {
   "cell_type": "code",
   "execution_count": 3,
   "metadata": {},
   "outputs": [
    {
     "name": "stdout",
     "output_type": "stream",
     "text": [
      "(5, 7, 3)\n",
      "[[[0.85374881 0.23149535]\n",
      "  [0.31135781 0.41881354]\n",
      "  [0.31283504 0.07621139]\n",
      "  [0.60203563 0.84293027]]\n",
      "\n",
      " [[0.17966283 0.25659642]\n",
      "  [0.57537378 0.65605303]\n",
      "  [0.83799704 0.58649248]\n",
      "  [0.84911655 0.81580846]]\n",
      "\n",
      " [[0.76113402 0.00867158]\n",
      "  [0.39956383 0.85333841]\n",
      "  [0.41439398 0.70459811]\n",
      "  [0.53776237 0.08906824]]\n",
      "\n",
      " [[0.86031739 0.52082753]\n",
      "  [0.49704041 0.65255854]\n",
      "  [0.20630535 0.2488338 ]\n",
      "  [0.84577193 0.56255727]]\n",
      "\n",
      " [[0.81633717 0.33940567]\n",
      "  [0.592843   0.06960565]\n",
      "  [0.58273466 0.56190557]\n",
      "  [0.95272528 0.71896894]]\n",
      "\n",
      " [[0.18287298 0.99836717]\n",
      "  [0.89773146 0.31587262]\n",
      "  [0.31508192 0.89859113]\n",
      "  [0.14729242 0.63712041]]\n",
      "\n",
      " [[0.59882914 0.9328179 ]\n",
      "  [0.50813327 0.86493243]\n",
      "  [0.71661013 0.73363556]\n",
      "  [0.79782935 0.17723945]]\n",
      "\n",
      " [[0.65856715 0.16863623]\n",
      "  [0.49027933 0.51996811]\n",
      "  [0.6772285  0.48483407]\n",
      "  [0.77073586 0.14072679]]\n",
      "\n",
      " [[0.62305598 0.51249289]\n",
      "  [0.53395976 0.60462306]\n",
      "  [0.28236456 0.88547209]\n",
      "  [0.45223137 0.97419374]]]\n"
     ]
    }
   ],
   "source": [
    "# Fill Arrays Automatically\n",
    "\n",
    "a = np.zeros((5,7,3)) # Gives 5 arrays with a height of 7 and a length of 3\n",
    "print(a.shape)\n",
    "\n",
    "b = np.random.random((9,4,2))\n",
    "print(b)"
   ]
  },
  {
   "cell_type": "code",
   "execution_count": 4,
   "metadata": {},
   "outputs": [
    {
     "name": "stdout",
     "output_type": "stream",
     "text": [
      "[ 0.00000000e+00 -8.18283849e+01 -3.67717580e+02 -8.57667585e+02\n",
      " -1.55167840e+03 -2.44975003e+03 -3.55188246e+03 -4.85807571e+03\n",
      " -6.36832976e+03 -8.08264463e+03 -1.00010203e+04 -1.21234568e+04\n",
      " -1.44499541e+04 -1.69805122e+04 -1.97151311e+04 -2.26538108e+04\n",
      " -2.57965514e+04 -2.91433527e+04 -3.26942149e+04 -3.64491378e+04\n",
      " -4.04081216e+04 -4.45711662e+04 -4.89382716e+04 -5.35094378e+04\n",
      " -5.82846648e+04 -6.32639527e+04 -6.84473013e+04 -7.38347107e+04\n",
      " -7.94261810e+04 -8.52217121e+04 -9.12213039e+04 -9.74249566e+04\n",
      " -1.03832670e+05 -1.10444444e+05 -1.17260280e+05 -1.24280175e+05\n",
      " -1.31504132e+05 -1.38932150e+05 -1.46564228e+05 -1.54400367e+05\n",
      " -1.62440567e+05 -1.70684828e+05 -1.79133150e+05 -1.87785532e+05\n",
      " -1.96641975e+05 -2.05702479e+05 -2.14967044e+05 -2.24435670e+05\n",
      " -2.34108356e+05 -2.43985104e+05 -2.54065912e+05 -2.64350781e+05\n",
      " -2.74839710e+05 -2.85532701e+05 -2.96429752e+05 -3.07530864e+05\n",
      " -3.18836037e+05 -3.30345271e+05 -3.42058565e+05 -3.53975921e+05\n",
      " -3.66097337e+05 -3.78422814e+05 -3.90952352e+05 -4.03685950e+05\n",
      " -4.16623610e+05 -4.29765330e+05 -4.43111111e+05 -4.56660953e+05\n",
      " -4.70414856e+05 -4.84372819e+05 -4.98534843e+05 -5.12900928e+05\n",
      " -5.27471074e+05 -5.42245281e+05 -5.57223549e+05 -5.72405877e+05\n",
      " -5.87792266e+05 -6.03382716e+05 -6.19177227e+05 -6.35175798e+05\n",
      " -6.51378431e+05 -6.67785124e+05 -6.84395878e+05 -7.01210693e+05\n",
      " -7.18229568e+05 -7.35452505e+05 -7.52879502e+05 -7.70510560e+05\n",
      " -7.88345679e+05 -8.06384859e+05 -8.24628099e+05 -8.43075400e+05\n",
      " -8.61726763e+05 -8.80582185e+05 -8.99641669e+05 -9.18905214e+05\n",
      " -9.38372819e+05 -9.58044485e+05 -9.77920212e+05 -9.98000000e+05]\n"
     ]
    }
   ],
   "source": [
    "# Rnage Functions\n",
    "\n",
    "x = np.arange(0,1000,5) # the order is starting val, ending val, step size\n",
    "y = x*2 - x**2\n",
    "# print(y)\n",
    "\n",
    "w = np.linspace(0,1000,100) # starting val, ending val, amount of points specified\n",
    "z = w*2 - w**2\n",
    "print(z)"
   ]
  },
  {
   "cell_type": "code",
   "execution_count": null,
   "metadata": {},
   "outputs": [],
   "source": [
    "# Attributes"
   ]
  }
 ],
 "metadata": {
  "kernelspec": {
   "display_name": "Python 3",
   "language": "python",
   "name": "python3"
  },
  "language_info": {
   "codemirror_mode": {
    "name": "ipython",
    "version": 3
   },
   "file_extension": ".py",
   "mimetype": "text/x-python",
   "name": "python",
   "nbconvert_exporter": "python",
   "pygments_lexer": "ipython3",
   "version": "3.12.2"
  }
 },
 "nbformat": 4,
 "nbformat_minor": 2
}
