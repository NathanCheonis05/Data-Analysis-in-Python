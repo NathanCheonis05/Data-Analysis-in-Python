{
 "cells": [
  {
   "cell_type": "markdown",
   "metadata": {},
   "source": [
    "# Numpy Tutorial\n",
    "\n",
    "I will be doing a data analysis tutorial so that I can get a firm grasp on the `numpy` library. The goals of this tutorial will be as follows:\n",
    "\n",
    " - Learn how to analyze data statistically using `numpy`.\n",
    "\n",
    " I am going to be looking at many sources of data and create data randomly for this project.\n",
    "\n",
    " **Let the fun begin.**"
   ]
  },
  {
   "cell_type": "code",
   "execution_count": 2,
   "metadata": {},
   "outputs": [],
   "source": [
    "import numpy as np"
   ]
  },
  {
   "cell_type": "code",
   "execution_count": 3,
   "metadata": {},
   "outputs": [
    {
     "name": "stdout",
     "output_type": "stream",
     "text": [
      "1\n",
      "5\n",
      "(3, 3)\n",
      "[ 6  8 10 12]\n"
     ]
    }
   ],
   "source": [
    "# I will be starting off with numpy array.\n",
    "# ML and Deep Learning has a lot to do with Linear Algebra and Numpy is good.\n",
    "\n",
    "# np arrays look like a basic python list\n",
    "# Here is an example\n",
    "\n",
    "a = np.array([1,2,3,4])\n",
    "b = np.array([5,6,7,8])\n",
    "c = np.array([\n",
    "    [1,2,3],\n",
    "    [4,5,6],\n",
    "    [7,8,9]\n",
    "])\n",
    "\n",
    "print(a[0]) # list indexint still works for np arrays\n",
    "print(b[0])\n",
    "print(c.shape) # the.shape attribute will give the dimensions of the array\n",
    "\n",
    "x = np.array([1,2,3,4])\n",
    "y = np.array([5,6,7,8])\n",
    "\n",
    "sum_x_y = x + y\n",
    "print(sum_x_y)"
   ]
  },
  {
   "cell_type": "code",
   "execution_count": 4,
   "metadata": {},
   "outputs": [
    {
     "name": "stdout",
     "output_type": "stream",
     "text": [
      "(5, 7, 3)\n",
      "[[[0.80188478 0.28482891]\n",
      "  [0.61655373 0.25161785]\n",
      "  [0.38249498 0.91536763]\n",
      "  [0.3294675  0.61071231]]\n",
      "\n",
      " [[0.36060775 0.62553568]\n",
      "  [0.66141182 0.17610448]\n",
      "  [0.3030246  0.26658491]\n",
      "  [0.48194566 0.01101036]]\n",
      "\n",
      " [[0.78112861 0.40381949]\n",
      "  [0.85143763 0.0348234 ]\n",
      "  [0.42268595 0.56904857]\n",
      "  [0.59111448 0.10488212]]\n",
      "\n",
      " [[0.90609879 0.66568927]\n",
      "  [0.80230041 0.94720511]\n",
      "  [0.56923213 0.43753496]\n",
      "  [0.11807329 0.7356617 ]]\n",
      "\n",
      " [[0.94810885 0.99377952]\n",
      "  [0.89668968 0.50661668]\n",
      "  [0.40055598 0.77153509]\n",
      "  [0.05848411 0.57818454]]\n",
      "\n",
      " [[0.28251363 0.28122252]\n",
      "  [0.65535396 0.92088646]\n",
      "  [0.65585568 0.5707309 ]\n",
      "  [0.54032262 0.75478423]]\n",
      "\n",
      " [[0.10871845 0.48232521]\n",
      "  [0.08876519 0.55875316]\n",
      "  [0.43938674 0.69614528]\n",
      "  [0.47353849 0.61086809]]\n",
      "\n",
      " [[0.24122872 0.15376787]\n",
      "  [0.12207577 0.09814317]\n",
      "  [0.44770877 0.81006129]\n",
      "  [0.03995402 0.00641451]]\n",
      "\n",
      " [[0.15868398 0.59511356]\n",
      "  [0.26722235 0.75031866]\n",
      "  [0.52757309 0.69774621]\n",
      "  [0.84272171 0.06350842]]]\n"
     ]
    }
   ],
   "source": [
    "# Fill Arrays Automatically\n",
    "\n",
    "a = np.zeros((5,7,3)) # Gives 5 arrays with a height of 7 and a length of 3\n",
    "print(a.shape)\n",
    "\n",
    "b = np.random.random((9,4,2))\n",
    "print(b)"
   ]
  },
  {
   "cell_type": "code",
   "execution_count": 5,
   "metadata": {},
   "outputs": [
    {
     "name": "stdout",
     "output_type": "stream",
     "text": [
      "[ 0.00000000e+00 -8.18283849e+01 -3.67717580e+02 -8.57667585e+02\n",
      " -1.55167840e+03 -2.44975003e+03 -3.55188246e+03 -4.85807571e+03\n",
      " -6.36832976e+03 -8.08264463e+03 -1.00010203e+04 -1.21234568e+04\n",
      " -1.44499541e+04 -1.69805122e+04 -1.97151311e+04 -2.26538108e+04\n",
      " -2.57965514e+04 -2.91433527e+04 -3.26942149e+04 -3.64491378e+04\n",
      " -4.04081216e+04 -4.45711662e+04 -4.89382716e+04 -5.35094378e+04\n",
      " -5.82846648e+04 -6.32639527e+04 -6.84473013e+04 -7.38347107e+04\n",
      " -7.94261810e+04 -8.52217121e+04 -9.12213039e+04 -9.74249566e+04\n",
      " -1.03832670e+05 -1.10444444e+05 -1.17260280e+05 -1.24280175e+05\n",
      " -1.31504132e+05 -1.38932150e+05 -1.46564228e+05 -1.54400367e+05\n",
      " -1.62440567e+05 -1.70684828e+05 -1.79133150e+05 -1.87785532e+05\n",
      " -1.96641975e+05 -2.05702479e+05 -2.14967044e+05 -2.24435670e+05\n",
      " -2.34108356e+05 -2.43985104e+05 -2.54065912e+05 -2.64350781e+05\n",
      " -2.74839710e+05 -2.85532701e+05 -2.96429752e+05 -3.07530864e+05\n",
      " -3.18836037e+05 -3.30345271e+05 -3.42058565e+05 -3.53975921e+05\n",
      " -3.66097337e+05 -3.78422814e+05 -3.90952352e+05 -4.03685950e+05\n",
      " -4.16623610e+05 -4.29765330e+05 -4.43111111e+05 -4.56660953e+05\n",
      " -4.70414856e+05 -4.84372819e+05 -4.98534843e+05 -5.12900928e+05\n",
      " -5.27471074e+05 -5.42245281e+05 -5.57223549e+05 -5.72405877e+05\n",
      " -5.87792266e+05 -6.03382716e+05 -6.19177227e+05 -6.35175798e+05\n",
      " -6.51378431e+05 -6.67785124e+05 -6.84395878e+05 -7.01210693e+05\n",
      " -7.18229568e+05 -7.35452505e+05 -7.52879502e+05 -7.70510560e+05\n",
      " -7.88345679e+05 -8.06384859e+05 -8.24628099e+05 -8.43075400e+05\n",
      " -8.61726763e+05 -8.80582185e+05 -8.99641669e+05 -9.18905214e+05\n",
      " -9.38372819e+05 -9.58044485e+05 -9.77920212e+05 -9.98000000e+05]\n"
     ]
    }
   ],
   "source": [
    "# Rnage Functions\n",
    "\n",
    "x = np.arange(0,1000,5) # the order is starting val, ending val, step size\n",
    "y = x*2 - x**2\n",
    "# print(y)\n",
    "\n",
    "w = np.linspace(0,1000,100) # starting val, ending val, amount of points specified\n",
    "z = w*2 - w**2\n",
    "print(z)"
   ]
  },
  {
   "cell_type": "code",
   "execution_count": 6,
   "metadata": {},
   "outputs": [
    {
     "name": "stdout",
     "output_type": "stream",
     "text": [
      "(2, 2, 3)\n"
     ]
    }
   ],
   "source": [
    "# Attributes\n",
    "\n",
    "a = np.array([\n",
    "    [\n",
    "        [1,2,3],\n",
    "        [4,5,6]\n",
    "    ],\n",
    "    [\n",
    "        [10,20,30],\n",
    "        [40,50,60]\n",
    "    ]\n",
    "])\n",
    "\n",
    "print(a.shape)"
   ]
  },
  {
   "cell_type": "code",
   "execution_count": 7,
   "metadata": {},
   "outputs": [
    {
     "name": "stdout",
     "output_type": "stream",
     "text": [
      "2.58\n"
     ]
    }
   ],
   "source": [
    "# Mathematical function in numpy\n",
    "\n",
    "a = np.array([\n",
    "    [1,2,3],\n",
    "    [4,5,6],\n",
    "    [7,8,9]\n",
    "])\n",
    "\n",
    "print(f\"{np.std(a):.2f}\")"
   ]
  }
 ],
 "metadata": {
  "kernelspec": {
   "display_name": "Python 3",
   "language": "python",
   "name": "python3"
  },
  "language_info": {
   "codemirror_mode": {
    "name": "ipython",
    "version": 3
   },
   "file_extension": ".py",
   "mimetype": "text/x-python",
   "name": "python",
   "nbconvert_exporter": "python",
   "pygments_lexer": "ipython3",
   "version": "3.12.2"
  }
 },
 "nbformat": 4,
 "nbformat_minor": 2
}
